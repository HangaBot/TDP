{
 "cells": [
  {
   "cell_type": "markdown",
   "metadata": {},
   "source": [
    "# Fattore di array di due sorgenti puntiformi\n",
    "Consideriamo il caso di due sorgenti puntiformi poste ad una distanza $d$ l'una dalla altra "
   ]
  },
  {
   "cell_type": "markdown",
   "metadata": {},
   "source": [
    "Il fattore di array si scrive:\n",
    "\\begin{equation}\n",
    "I_0  \\exp\\left(-j k \\frac{d}{2} \\sin(\\theta_{az}) \\right) + I_1  \\exp\\left(j k \\frac{d}{2} \\sin(\\theta_{az}) \\right)\n",
    "\\end{equation}"
   ]
  },
  {
   "cell_type": "markdown",
   "metadata": {},
   "source": [
    "alimentiamo le antenne in modo da avere il massimo nella direzione $\\theta_{d}$ "
   ]
  },
  {
   "cell_type": "markdown",
   "metadata": {},
   "source": [
    "$I_0 =  \\exp\\left(j k \\frac{d}{2} \\sin(\\theta_{d}) \\right)$"
   ]
  },
  {
   "cell_type": "markdown",
   "metadata": {},
   "source": [
    "$I_1 =  \\exp\\left(-j k \\frac{d}{2} \\sin(\\theta_{d}) \\right)$"
   ]
  },
  {
   "cell_type": "code",
   "execution_count": 2,
   "metadata": {},
   "outputs": [
    {
     "data": {
      "application/vnd.jupyter.widget-view+json": {
       "model_id": "8bfe041a4784499d8e9f8cf1f2bfd7e2",
       "version_major": 2,
       "version_minor": 0
      },
      "text/plain": [
       "interactive(children=(FloatSlider(value=30.4, description='d', max=60.8), FloatSlider(value=0.0, description='…"
      ]
     },
     "metadata": {},
     "output_type": "display_data"
    }
   ],
   "source": [
    "%matplotlib inline \n",
    "import matplotlib.pyplot as plt\n",
    "import numpy as np\n",
    "from ipywidgets import interactive\n",
    "\n",
    "c = 299792458.0 #[m/2]\n",
    "freq = 9.5e9 \n",
    "lambda_ = 1000* c / freq  #[mm]\n",
    "\n",
    "#theta_d     = 20*np.pi/180\n",
    "#d = 15.2 #[mm]\n",
    "\n",
    "\n",
    "\n",
    "def f(d, theta_d):\n",
    "    k = 2*np.pi/lambda_\n",
    "    theta_az    =   np.linspace(-180*np.pi/180, 180*np.pi/180, 361)\n",
    "    I0 = np.exp(+1j*k*(d/2)*np.sin(theta_d)) \n",
    "    I1 = np.exp(-1j*k*(d/2)*np.sin(theta_d)) \n",
    "\n",
    "    F = I0*np.exp(-1j*k*(d/2)*np.sin(theta_az)) + I1*np.exp(1j*k*(d/2)*np.sin(theta_az))\n",
    "    F_dB = 20*np.log10(np.abs(F))\n",
    "    F_dB_max = np.amax(F_dB)\n",
    "    F_dB = F_dB-F_dB_max\n",
    "    plt.polar(theta_az, F_dB, color='red', label=\"azimuth cut\")\n",
    "\n",
    "    plt.ylim(-30, 1)\n",
    "    plt.show()\n",
    "    \n",
    "interactive_plot = interactive(f, d=(0, 60.8), theta_d=(-np.pi/2, np.pi/2))\n",
    "output = interactive_plot.children[-1]\n",
    "output.layout.height = '350px'\n",
    "interactive_plot"
   ]
  },
  {
   "cell_type": "code",
   "execution_count": null,
   "metadata": {},
   "outputs": [],
   "source": []
  }
 ],
 "metadata": {
  "kernelspec": {
   "display_name": "Python 3",
   "language": "python",
   "name": "python3"
  },
  "language_info": {
   "codemirror_mode": {
    "name": "ipython",
    "version": 3
   },
   "file_extension": ".py",
   "mimetype": "text/x-python",
   "name": "python",
   "nbconvert_exporter": "python",
   "pygments_lexer": "ipython3",
   "version": "3.7.1"
  }
 },
 "nbformat": 4,
 "nbformat_minor": 2
}
